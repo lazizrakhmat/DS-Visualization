{
  "nbformat": 4,
  "nbformat_minor": 0,
  "metadata": {
    "colab": {
      "private_outputs": true,
      "provenance": [],
      "authorship_tag": "ABX9TyMQ4qNK+29/LEYFbOngXGZM",
      "include_colab_link": true
    },
    "kernelspec": {
      "name": "python3",
      "display_name": "Python 3"
    },
    "language_info": {
      "name": "python"
    },
    "gpuClass": "standard"
  },
  "cells": [
    {
      "cell_type": "markdown",
      "metadata": {
        "id": "view-in-github",
        "colab_type": "text"
      },
      "source": [
        "<a href=\"https://colab.research.google.com/github/lazizrakhmat/DS-Visualization/blob/main/04_VISUAL_AMALIYOT_06_seaborn.ipynb\" target=\"_parent\"><img src=\"https://colab.research.google.com/assets/colab-badge.svg\" alt=\"Open In Colab\"/></a>"
      ]
    },
    {
      "cell_type": "markdown",
      "source": [
        "\n",
        "# Data Science va Sun'iy Intellekt Praktikum\n",
        "\n",
        "## 4-MODUL. VIZUALIZASIYA\n",
        "\n",
        "### 4.4 **Scatter plot** - Tarqoqlik diagrammasi\n",
        "**Scatter plot** yordamida ma'lumotlar qanchalik tarqoq ekanin kuzatishimiz mumkin. Bu grafik ham bir nechta ustunlar orasidagi bog'liqlikni (korrelyasiya) ko'rishga xizmat qiladi."
      ],
      "metadata": {
        "id": "LtCJyZL2M8EG"
      }
    },
    {
      "cell_type": "code",
      "execution_count": null,
      "metadata": {
        "id": "WdPdxsOSM7Iz"
      },
      "outputs": [],
      "source": [
        "import pandas as pd\n",
        "import numpy as np\n",
        "import matplotlib.pyplot as plt\n",
        "%matplotlib inline\n",
        "import seaborn as sns # agar seaborn o'rnatilmagan bo'lsa pip install seaborn"
      ]
    },
    {
      "cell_type": "code",
      "source": [
        "df = pd.read_csv(\"https://raw.githubusercontent.com/anvarnarz/praktikum_datasets/main/merc.csv\")\n",
        "df.head()"
      ],
      "metadata": {
        "id": "Fsae9fdTM9oY"
      },
      "execution_count": null,
      "outputs": []
    },
    {
      "cell_type": "code",
      "source": [
        "df.shape"
      ],
      "metadata": {
        "id": "vatmpovvO_ze"
      },
      "execution_count": null,
      "outputs": []
    },
    {
      "cell_type": "code",
      "source": [
        "df = df[df.year >2000]\n",
        "plt.figure(figsize=(16,6))\n",
        "sns.scatterplot(data=df, x='year', y='price')\n",
        "plt.show()"
      ],
      "metadata": {
        "id": "U4aumx_fNupm"
      },
      "execution_count": null,
      "outputs": []
    },
    {
      "cell_type": "code",
      "source": [
        "plt.figure(figsize=(16,6))\n",
        "sns.scatterplot(data=df, x='year', y='price', hue='transmission', s=100)\n",
        "plt.show()"
      ],
      "metadata": {
        "id": "qUuFwlERN-gt"
      },
      "execution_count": null,
      "outputs": []
    },
    {
      "cell_type": "code",
      "source": [
        "plt.figure(figsize=(16,6))\n",
        "sns.regplot(data=df, x='year', y='price') # o'suvchi korrelyatsiya (.regplot) chizadi bu positive\n",
        "plt.show()"
      ],
      "metadata": {
        "id": "g_l3GYTiOT1i"
      },
      "execution_count": null,
      "outputs": []
    },
    {
      "cell_type": "code",
      "source": [
        "plt.figure(figsize=(16,6))\n",
        "sns.regplot(data=df, x='mileage', y='price') #korrelyatsiya (.regplot) chizadi bu negative\n",
        "plt.show()"
      ],
      "metadata": {
        "id": "aYGJC8-hOkIS"
      },
      "execution_count": null,
      "outputs": []
    },
    {
      "cell_type": "code",
      "source": [
        "plt.figure(figsize=(16,6))\n",
        "sns.scatterplot(data=df, x='mileage', y='price', hue='transmission', style='fuelType', s=100)\n",
        "plt.show()"
      ],
      "metadata": {
        "id": "Clt59aqOO31O"
      },
      "execution_count": null,
      "outputs": []
    },
    {
      "cell_type": "markdown",
      "source": [
        "`scatterplot` ning maxsus ko'rinishi `stripplot` yoki `swarmplot`"
      ],
      "metadata": {
        "id": "NDvxNYKnPwlW"
      }
    },
    {
      "cell_type": "code",
      "source": [
        "sns.swarmplot(data=df, x=df['transmission'], y=df['price']) # bu ko'rinishda biroz vaqt oladi\n",
        "plt.show()"
      ],
      "metadata": {
        "id": "dscHOjEAPkhm"
      },
      "execution_count": null,
      "outputs": []
    },
    {
      "cell_type": "markdown",
      "source": [
        "Yuqoridagi jadvaldan ham turli xulosalar qilish mumkin:\n",
        "- `Automatic` va `Semi-auto` mashinalar deyarli bir hil narx kategoriyada\n",
        "- `Manual` mashinalar arzon mashinalar segmentida (30000$ gacha).\n",
        "\n",
        "### scatterplot haqida ko'proq: https://seaborn.pydata.org/generated/seaborn.scatterplot.html"
      ],
      "metadata": {
        "id": "lr2tnS_EQSDw"
      }
    }
  ]
}