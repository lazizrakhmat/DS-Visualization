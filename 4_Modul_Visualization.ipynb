{
  "nbformat": 4,
  "nbformat_minor": 0,
  "metadata": {
    "colab": {
      "private_outputs": true,
      "provenance": [],
      "authorship_tag": "ABX9TyPIay1QrBCOYJJFl2zXHhzu",
      "include_colab_link": true
    },
    "kernelspec": {
      "name": "python3",
      "display_name": "Python 3"
    },
    "language_info": {
      "name": "python"
    },
    "gpuClass": "standard"
  },
  "cells": [
    {
      "cell_type": "markdown",
      "metadata": {
        "id": "view-in-github",
        "colab_type": "text"
      },
      "source": [
        "<a href=\"https://colab.research.google.com/github/lazizrakhmat/DS-Visualization/blob/main/4_Modul_Visualization.ipynb\" target=\"_parent\"><img src=\"https://colab.research.google.com/assets/colab-badge.svg\" alt=\"Open In Colab\"/></a>"
      ]
    },
    {
      "cell_type": "markdown",
      "source": [
        "# 4-Modul Visualization\n",
        "## Chiziqli grafiglar `matplotlib` paketi\n"
      ],
      "metadata": {
        "id": "_ffp_WujUg5q"
      }
    },
    {
      "cell_type": "code",
      "execution_count": null,
      "metadata": {
        "id": "DOYfbmMYULxa"
      },
      "outputs": [],
      "source": [
        "import numpy as np\n",
        "import pandas as pd\n",
        "import matplotlib.pyplot as plt\n",
        "%matplotlib inline "
      ]
    },
    {
      "cell_type": "code",
      "source": [
        "sonlar = np.arange(10)\n",
        "sonlar"
      ],
      "metadata": {
        "id": "PpSQnPtfUoPf"
      },
      "execution_count": null,
      "outputs": []
    },
    {
      "cell_type": "code",
      "source": [
        "plt.plot(sonlar)\n",
        "plt.show()"
      ],
      "metadata": {
        "id": "RCL7EVOaVRsD"
      },
      "execution_count": null,
      "outputs": []
    },
    {
      "cell_type": "code",
      "source": [
        "x = np.arange(0, 4*np.pi, 0.1) # darsga aloqasi yo'q\n",
        "y = np.sin(x)\n",
        "plt.plot(x, y)\n",
        "plt.show()"
      ],
      "metadata": {
        "id": "6GQ5twUSVUdb"
      },
      "execution_count": null,
      "outputs": []
    },
    {
      "cell_type": "code",
      "source": [
        "plt.figure(figsize=(16,6))\n",
        "plt.plot(x, y, linewidth=2, linestyle=\"--\", color=\"y\", marker='^')\n",
        "plt.title(\"sin(x) function\") # nom berish\n",
        "plt.xlabel(\"pi\")\n",
        "plt.ylabel(\"sin(x)\")\n",
        "plt.grid(color='k', linestyle=\":\") # orqa foni\n",
        "plt.show()"
      ],
      "metadata": {
        "id": "bgbDd1a8VtsA"
      },
      "execution_count": null,
      "outputs": []
    },
    {
      "cell_type": "code",
      "source": [
        "x = np.arange(0, 4*np.pi, 0.1)\n",
        "sin = np.sin(x) # sin(x)\n",
        "cos = np.cos(x) # cos(x)\n",
        "\n",
        "plt.figure(figsize=(12,6)) # rasmning hajmi\n",
        "\n",
        "# sin(x) grafigi\n",
        "plt.plot(x, sin,\n",
        "         linewidth =1.5,\n",
        "         linestyle ='-',\n",
        "         color ='#8E44AD',\n",
        "         alpha = 0.7,\n",
        "         marker = 'h') # alpha = Qanchalik yorug' ko'rinishi, marker = Chiziqlar ko'rinishi\n",
        "\n",
        "# cos(x) grafigi\n",
        "plt.plot(x, cos,\n",
        "         linewidth =1.5,\n",
        "         linestyle =':',\n",
        "         color = 'c',\n",
        "         alpha = 0.7,\n",
        "         marker = 'v') \n",
        "# Grafig nomi\n",
        "plt.title(\"sin(x) va cos(x)\")\n",
        "\n",
        "# x - o'qi nomi:\n",
        "plt.xlabel(\"pi\")\n",
        "\n",
        "# Har bir chiziq haqida ma'lumot:\n",
        "plt.legend(['sin(x) function, cos(x) function'], loc=1, fontsize='x-large')\n",
        "plt.grid(color='tomato', alpha=0.5, linestyle='--') # ichki setkani o'zgartirish\n",
        "plt.show()"
      ],
      "metadata": {
        "id": "4HsCPgJaWlk0"
      },
      "execution_count": null,
      "outputs": []
    },
    {
      "cell_type": "code",
      "source": [
        "plt.savefig('grafig1.png')"
      ],
      "metadata": {
        "id": "YIjuWUkKXTUq"
      },
      "execution_count": null,
      "outputs": []
    }
  ]
}