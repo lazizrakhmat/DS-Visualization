{
  "nbformat": 4,
  "nbformat_minor": 0,
  "metadata": {
    "colab": {
      "provenance": [],
      "include_colab_link": true
    },
    "kernelspec": {
      "name": "python3",
      "display_name": "Python 3"
    },
    "language_info": {
      "name": "python"
    }
  },
  "cells": [
    {
      "cell_type": "markdown",
      "metadata": {
        "id": "view-in-github",
        "colab_type": "text"
      },
      "source": [
        "<a href=\"https://colab.research.google.com/github/lazizrakhmat/DS-Visualization/blob/main/04_VISUAL_AMALIYOT_04_seaborn.ipynb\" target=\"_parent\"><img src=\"https://colab.research.google.com/assets/colab-badge.svg\" alt=\"Open In Colab\"/></a>"
      ]
    },
    {
      "cell_type": "markdown",
      "source": [
        "# Data Science va Sun'iy Intellekt Praktikum\n",
        "\n",
        "## 4-MODUL. VIZUALIZASIYA\n",
        "## 4.4 Bonus \n",
        "### Guruhlangan ustunli grafiklar.\n",
        " "
      ],
      "metadata": {
        "id": "NH59l9byvNyt"
      }
    },
    {
      "cell_type": "code",
      "execution_count": 1,
      "metadata": {
        "id": "W--qH0O3vMLA"
      },
      "outputs": [],
      "source": [
        "import pandas as pd\n",
        "import numpy as np\n",
        "import matplotlib.pyplot as plt\n",
        "%matplotlib inline\n",
        "import seaborn as sns "
      ]
    },
    {
      "cell_type": "markdown",
      "source": [
        "## `cmap` uchun mavjud ranglar"
      ],
      "metadata": {
        "id": "gbN1HsuVOK3w"
      }
    },
    {
      "cell_type": "markdown",
      "source": [
        "### **`cmap` uchun mavjud ranglar:**\n",
        "`[‘Accent’, ‘Accent_r’, ‘Blues’, ‘Blues_r’, ‘BrBG’, ‘BrBG_r’, ‘BuGn’, ‘BuGn_r’, ‘BuPu’, ‘BuPu_r’, \n",
        " ‘CMRmap’, ‘CMRmap_r’, ‘Dark2’, ‘Dark2_r’, ‘GnBu’, ‘GnBu_r’, ‘Greens’, ‘Greens_r’, ‘Greys’, ‘Greys_r’, ‘OrRd’, \n",
        " ‘OrRd_r’, ‘Oranges’, ‘Oranges_r’, ‘PRGn’, ‘PRGn_r’, ‘Paired’, ‘Paired_r’, ‘Pastel1’, \n",
        " ‘Pastel1_r’, ‘Pastel2’, ‘Pastel2_r’, ‘PiYG’, ‘PiYG_r’, ‘PuBu’, ‘PuBuGn’, ‘PuBuGn_r’, \n",
        " ‘PuBu_r’, ‘PuOr’, ‘PuOr_r’, ‘PuRd’, ‘PuRd_r’, ‘Purples’, ‘Purples_r’, ‘RdBu’, ‘RdBu_r’, \n",
        " ‘RdGy’, ‘RdGy_r’, ‘RdPu’, ‘RdPu_r’, ‘RdYlBu’, ‘RdYlBu_r’, ‘RdYlGn’, ‘RdYlGn_r’, ‘Reds’, \n",
        " ‘Reds_r’, ‘Set1’, ‘Set1_r’, ‘Set2’, ‘Set2_r’, ‘Set3’, ‘Set3_r’, ‘Spectral’, ‘Spectral_r’, \n",
        " ‘Wistia’, ‘Wistia_r’, ‘YlGn’, ‘YlGnBu’, ‘YlGnBu_r’, ‘YlGn_r’, ‘YlOrBr’, ‘YlOrBr_r’, ‘YlOrRd’, \n",
        " ‘YlOrRd_r’, ‘afmhot’, ‘afmhot_r’, ‘autumn’, ‘autumn_r’, ‘binary’, ‘binary_r’, ‘bone’, \n",
        " ‘bone_r’, ‘brg’, ‘brg_r’, ‘bwr’, ‘bwr_r’, ‘cividis’, ‘cividis_r’, ‘cool’, ‘cool_r’, ‘coolwarm’, ‘coolwarm_r’, ‘copper’, ‘copper_r’,\n",
        " ‘cubehelix’, ‘cubehelix_r’, ‘flag’, ‘flag_r’, ‘gist_earth’, ‘gist_earth_r’, ‘gist_gray’, ‘gist_gray_r’, ‘gist_heat’, ‘gist_heat_r’, ‘gist_ncar’, ‘gist_ncar_r’,\n",
        " ‘gist_rainbow’, ‘gist_rainbow_r’, ‘gist_stern’, ‘gist_stern_r’, ‘gist_yarg’, \n",
        " ‘gist_yarg_r’, ‘gnuplot’, ‘gnuplot2’, ‘gnuplot2_r’, ‘gnuplot_r’, ‘gray’, ‘gray_r’,\n",
        " ‘hot’, ‘hot_r’, ‘hsv’, ‘hsv_r’, ‘icefire’, ‘icefire_r’, ‘inferno’, \n",
        " ‘inferno_r’, ‘magma’, ‘magma_r’, ‘mako’, ‘mako_r’, \n",
        " ‘nipy_spectral’, ‘nipy_spectral_r’, ‘ocean’, ‘ocean_r’, ‘pink’, ‘pink_r’,\n",
        " ‘plasma’, ‘plasma_r’, ‘prism’, ‘prism_r’, ‘rainbow’, ‘rainbow_r’,\n",
        " ‘rocket’, ‘rocket_r’, ‘seismic’, ‘seismic_r’, ‘spring’, ‘spring_r’,\n",
        " ‘summer’, ‘summer_r’, ‘tab10’, ‘tab10_r’, ‘tab20’, ‘tab20_r’, ‘tab20b’,\n",
        " ‘tab20b_r’, ‘tab20c’, ‘tab20c_r’, ‘terrain’, ‘terrain_r’, ‘twilight’,\n",
        " ‘twilight_r’, ‘twilight_shifted’, ‘twilight_shifted_r’, ‘viridis’, ‘viridis_r’, ‘vlag’, ‘vlag_r’, ‘winter’, ‘winter_r’]`\n",
        "\n",
        " seaborn.heatmap haqida to'liq ma'lumot: https://seaborn.pydata.org/generated/seaborn.heatmap.html\n"
      ],
      "metadata": {
        "id": "Dy3Mx63K-Ssq"
      }
    },
    {
      "cell_type": "code",
      "source": [
        "df = pd.read_csv(\"https://raw.githubusercontent.com/anvarnarz/praktikum_datasets/main/flight_delays.csv\")\n",
        "df.head()"
      ],
      "metadata": {
        "colab": {
          "base_uri": "https://localhost:8080/",
          "height": 270
        },
        "id": "igJSqowqJwOZ",
        "outputId": "a5667b04-2714-40a3-9a8d-b5f455ecb616"
      },
      "execution_count": 7,
      "outputs": [
        {
          "output_type": "execute_result",
          "data": {
            "text/plain": [
              "   Month        AA        AS         B6        DL         EV         F9  \\\n",
              "0      1  6.955843 -0.320888   7.347281 -2.043847   8.537497  18.357238   \n",
              "1      2  7.530204 -0.782923  18.657673  5.614745  10.417236  27.424179   \n",
              "2      3  6.693587 -0.544731  10.741317  2.077965   6.730101  20.074855   \n",
              "3      4  4.931778 -3.009003   2.780105  0.083343   4.821253  12.640440   \n",
              "4      5  5.173878 -1.716398  -0.709019  0.149333   7.724290  13.007554   \n",
              "\n",
              "         HA         MQ         NK         OO        UA        US        VX  \\\n",
              "0  3.512640  18.164974  11.398054  10.889894  6.352729  3.107457  1.420702   \n",
              "1  6.029967  21.301627  16.474466   9.588895  7.260662  7.114455  7.784410   \n",
              "2  3.468383  11.018418  10.039118   3.181693  4.892212  3.330787  5.348207   \n",
              "3  0.011022   5.131228   8.766224   3.223796  4.376092  2.660290  0.995507   \n",
              "4  0.826426   5.466790  22.397347   4.141162  6.827695  0.681605  7.102021   \n",
              "\n",
              "         WN  \n",
              "0  3.389466  \n",
              "1  3.501363  \n",
              "2  3.263341  \n",
              "3  2.996399  \n",
              "4  5.680777  "
            ],
            "text/html": [
              "\n",
              "  <div id=\"df-e0a59cf0-dc10-4688-a954-b9a25988419c\">\n",
              "    <div class=\"colab-df-container\">\n",
              "      <div>\n",
              "<style scoped>\n",
              "    .dataframe tbody tr th:only-of-type {\n",
              "        vertical-align: middle;\n",
              "    }\n",
              "\n",
              "    .dataframe tbody tr th {\n",
              "        vertical-align: top;\n",
              "    }\n",
              "\n",
              "    .dataframe thead th {\n",
              "        text-align: right;\n",
              "    }\n",
              "</style>\n",
              "<table border=\"1\" class=\"dataframe\">\n",
              "  <thead>\n",
              "    <tr style=\"text-align: right;\">\n",
              "      <th></th>\n",
              "      <th>Month</th>\n",
              "      <th>AA</th>\n",
              "      <th>AS</th>\n",
              "      <th>B6</th>\n",
              "      <th>DL</th>\n",
              "      <th>EV</th>\n",
              "      <th>F9</th>\n",
              "      <th>HA</th>\n",
              "      <th>MQ</th>\n",
              "      <th>NK</th>\n",
              "      <th>OO</th>\n",
              "      <th>UA</th>\n",
              "      <th>US</th>\n",
              "      <th>VX</th>\n",
              "      <th>WN</th>\n",
              "    </tr>\n",
              "  </thead>\n",
              "  <tbody>\n",
              "    <tr>\n",
              "      <th>0</th>\n",
              "      <td>1</td>\n",
              "      <td>6.955843</td>\n",
              "      <td>-0.320888</td>\n",
              "      <td>7.347281</td>\n",
              "      <td>-2.043847</td>\n",
              "      <td>8.537497</td>\n",
              "      <td>18.357238</td>\n",
              "      <td>3.512640</td>\n",
              "      <td>18.164974</td>\n",
              "      <td>11.398054</td>\n",
              "      <td>10.889894</td>\n",
              "      <td>6.352729</td>\n",
              "      <td>3.107457</td>\n",
              "      <td>1.420702</td>\n",
              "      <td>3.389466</td>\n",
              "    </tr>\n",
              "    <tr>\n",
              "      <th>1</th>\n",
              "      <td>2</td>\n",
              "      <td>7.530204</td>\n",
              "      <td>-0.782923</td>\n",
              "      <td>18.657673</td>\n",
              "      <td>5.614745</td>\n",
              "      <td>10.417236</td>\n",
              "      <td>27.424179</td>\n",
              "      <td>6.029967</td>\n",
              "      <td>21.301627</td>\n",
              "      <td>16.474466</td>\n",
              "      <td>9.588895</td>\n",
              "      <td>7.260662</td>\n",
              "      <td>7.114455</td>\n",
              "      <td>7.784410</td>\n",
              "      <td>3.501363</td>\n",
              "    </tr>\n",
              "    <tr>\n",
              "      <th>2</th>\n",
              "      <td>3</td>\n",
              "      <td>6.693587</td>\n",
              "      <td>-0.544731</td>\n",
              "      <td>10.741317</td>\n",
              "      <td>2.077965</td>\n",
              "      <td>6.730101</td>\n",
              "      <td>20.074855</td>\n",
              "      <td>3.468383</td>\n",
              "      <td>11.018418</td>\n",
              "      <td>10.039118</td>\n",
              "      <td>3.181693</td>\n",
              "      <td>4.892212</td>\n",
              "      <td>3.330787</td>\n",
              "      <td>5.348207</td>\n",
              "      <td>3.263341</td>\n",
              "    </tr>\n",
              "    <tr>\n",
              "      <th>3</th>\n",
              "      <td>4</td>\n",
              "      <td>4.931778</td>\n",
              "      <td>-3.009003</td>\n",
              "      <td>2.780105</td>\n",
              "      <td>0.083343</td>\n",
              "      <td>4.821253</td>\n",
              "      <td>12.640440</td>\n",
              "      <td>0.011022</td>\n",
              "      <td>5.131228</td>\n",
              "      <td>8.766224</td>\n",
              "      <td>3.223796</td>\n",
              "      <td>4.376092</td>\n",
              "      <td>2.660290</td>\n",
              "      <td>0.995507</td>\n",
              "      <td>2.996399</td>\n",
              "    </tr>\n",
              "    <tr>\n",
              "      <th>4</th>\n",
              "      <td>5</td>\n",
              "      <td>5.173878</td>\n",
              "      <td>-1.716398</td>\n",
              "      <td>-0.709019</td>\n",
              "      <td>0.149333</td>\n",
              "      <td>7.724290</td>\n",
              "      <td>13.007554</td>\n",
              "      <td>0.826426</td>\n",
              "      <td>5.466790</td>\n",
              "      <td>22.397347</td>\n",
              "      <td>4.141162</td>\n",
              "      <td>6.827695</td>\n",
              "      <td>0.681605</td>\n",
              "      <td>7.102021</td>\n",
              "      <td>5.680777</td>\n",
              "    </tr>\n",
              "  </tbody>\n",
              "</table>\n",
              "</div>\n",
              "      <button class=\"colab-df-convert\" onclick=\"convertToInteractive('df-e0a59cf0-dc10-4688-a954-b9a25988419c')\"\n",
              "              title=\"Convert this dataframe to an interactive table.\"\n",
              "              style=\"display:none;\">\n",
              "        \n",
              "  <svg xmlns=\"http://www.w3.org/2000/svg\" height=\"24px\"viewBox=\"0 0 24 24\"\n",
              "       width=\"24px\">\n",
              "    <path d=\"M0 0h24v24H0V0z\" fill=\"none\"/>\n",
              "    <path d=\"M18.56 5.44l.94 2.06.94-2.06 2.06-.94-2.06-.94-.94-2.06-.94 2.06-2.06.94zm-11 1L8.5 8.5l.94-2.06 2.06-.94-2.06-.94L8.5 2.5l-.94 2.06-2.06.94zm10 10l.94 2.06.94-2.06 2.06-.94-2.06-.94-.94-2.06-.94 2.06-2.06.94z\"/><path d=\"M17.41 7.96l-1.37-1.37c-.4-.4-.92-.59-1.43-.59-.52 0-1.04.2-1.43.59L10.3 9.45l-7.72 7.72c-.78.78-.78 2.05 0 2.83L4 21.41c.39.39.9.59 1.41.59.51 0 1.02-.2 1.41-.59l7.78-7.78 2.81-2.81c.8-.78.8-2.07 0-2.86zM5.41 20L4 18.59l7.72-7.72 1.47 1.35L5.41 20z\"/>\n",
              "  </svg>\n",
              "      </button>\n",
              "      \n",
              "  <style>\n",
              "    .colab-df-container {\n",
              "      display:flex;\n",
              "      flex-wrap:wrap;\n",
              "      gap: 12px;\n",
              "    }\n",
              "\n",
              "    .colab-df-convert {\n",
              "      background-color: #E8F0FE;\n",
              "      border: none;\n",
              "      border-radius: 50%;\n",
              "      cursor: pointer;\n",
              "      display: none;\n",
              "      fill: #1967D2;\n",
              "      height: 32px;\n",
              "      padding: 0 0 0 0;\n",
              "      width: 32px;\n",
              "    }\n",
              "\n",
              "    .colab-df-convert:hover {\n",
              "      background-color: #E2EBFA;\n",
              "      box-shadow: 0px 1px 2px rgba(60, 64, 67, 0.3), 0px 1px 3px 1px rgba(60, 64, 67, 0.15);\n",
              "      fill: #174EA6;\n",
              "    }\n",
              "\n",
              "    [theme=dark] .colab-df-convert {\n",
              "      background-color: #3B4455;\n",
              "      fill: #D2E3FC;\n",
              "    }\n",
              "\n",
              "    [theme=dark] .colab-df-convert:hover {\n",
              "      background-color: #434B5C;\n",
              "      box-shadow: 0px 1px 3px 1px rgba(0, 0, 0, 0.15);\n",
              "      filter: drop-shadow(0px 1px 2px rgba(0, 0, 0, 0.3));\n",
              "      fill: #FFFFFF;\n",
              "    }\n",
              "  </style>\n",
              "\n",
              "      <script>\n",
              "        const buttonEl =\n",
              "          document.querySelector('#df-e0a59cf0-dc10-4688-a954-b9a25988419c button.colab-df-convert');\n",
              "        buttonEl.style.display =\n",
              "          google.colab.kernel.accessAllowed ? 'block' : 'none';\n",
              "\n",
              "        async function convertToInteractive(key) {\n",
              "          const element = document.querySelector('#df-e0a59cf0-dc10-4688-a954-b9a25988419c');\n",
              "          const dataTable =\n",
              "            await google.colab.kernel.invokeFunction('convertToInteractive',\n",
              "                                                     [key], {});\n",
              "          if (!dataTable) return;\n",
              "\n",
              "          const docLinkHtml = 'Like what you see? Visit the ' +\n",
              "            '<a target=\"_blank\" href=https://colab.research.google.com/notebooks/data_table.ipynb>data table notebook</a>'\n",
              "            + ' to learn more about interactive tables.';\n",
              "          element.innerHTML = '';\n",
              "          dataTable['output_type'] = 'display_data';\n",
              "          await google.colab.output.renderOutput(dataTable, element);\n",
              "          const docLink = document.createElement('div');\n",
              "          docLink.innerHTML = docLinkHtml;\n",
              "          element.appendChild(docLink);\n",
              "        }\n",
              "      </script>\n",
              "    </div>\n",
              "  </div>\n",
              "  "
            ]
          },
          "metadata": {},
          "execution_count": 7
        }
      ]
    },
    {
      "cell_type": "markdown",
      "source": [
        "Yuqoridagi jadval turli oylarda turli aviakompaniyalarga tegishli samolyotlar  o'rtacha necha minutga kechikkani ko'rsatilgan**<sup>*</sup>** (har bir ustun bu aviakompaniya nomi qisqartmasi).\n",
        "\n",
        "<sub>*manfiy qiymat samolyot erta kelganini anglatadi.</sub>\n",
        "\n",
        "Biz alohida aviakompaniya uchun oyma-oy qiymatlarni ustunli grafik ko'rinishida chiqarishimiz mumkin:"
      ],
      "metadata": {
        "id": "YE15I10g-9Ir"
      }
    },
    {
      "cell_type": "code",
      "source": [
        "df.shape"
      ],
      "metadata": {
        "colab": {
          "base_uri": "https://localhost:8080/"
        },
        "id": "u_sOIdJVOAIx",
        "outputId": "bbf33450-6884-4d60-a65c-db4a6c517c32"
      },
      "execution_count": 8,
      "outputs": [
        {
          "output_type": "execute_result",
          "data": {
            "text/plain": [
              "(12, 15)"
            ]
          },
          "metadata": {},
          "execution_count": 8
        }
      ]
    },
    {
      "cell_type": "code",
      "source": [],
      "metadata": {
        "id": "8hsLZwCt-NO0"
      },
      "execution_count": 9,
      "outputs": []
    },
    {
      "cell_type": "code",
      "source": [],
      "metadata": {
        "id": "X9c74ccdEV72"
      },
      "execution_count": null,
      "outputs": []
    }
  ]
}