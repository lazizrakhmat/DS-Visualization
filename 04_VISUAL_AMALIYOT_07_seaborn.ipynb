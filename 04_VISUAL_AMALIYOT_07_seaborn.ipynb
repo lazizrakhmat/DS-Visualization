{
  "nbformat": 4,
  "nbformat_minor": 0,
  "metadata": {
    "colab": {
      "private_outputs": true,
      "provenance": [],
      "authorship_tag": "ABX9TyNEHJK1/i4GMO+jZfxvb82f",
      "include_colab_link": true
    },
    "kernelspec": {
      "name": "python3",
      "display_name": "Python 3"
    },
    "language_info": {
      "name": "python"
    }
  },
  "cells": [
    {
      "cell_type": "markdown",
      "metadata": {
        "id": "view-in-github",
        "colab_type": "text"
      },
      "source": [
        "<a href=\"https://colab.research.google.com/github/lazizrakhmat/DS-Visualization/blob/main/04_VISUAL_AMALIYOT_07_seaborn.ipynb\" target=\"_parent\"><img src=\"https://colab.research.google.com/assets/colab-badge.svg\" alt=\"Open In Colab\"/></a>"
      ]
    },
    {
      "cell_type": "markdown",
      "source": [
        "# Data Science va Sun'iy Intellekt Praktikum\n",
        "\n",
        "## 4-MODUL. VIZUALIZASIYA\n",
        "\n",
        "### 4.6 **Distribution** - taqsimot\n",
        "Taqsimot grafik - o'zgaruvchi (ustun)da qanday qiymatlar mavjudligi va ularning ehtimolligini ko'rsatuvchi grafik. "
      ],
      "metadata": {
        "id": "xEOKCEkjZ_uR"
      }
    },
    {
      "cell_type": "code",
      "execution_count": null,
      "metadata": {
        "id": "51VAd6r-ZygH"
      },
      "outputs": [],
      "source": [
        "import pandas as pd\n",
        "import numpy as np\n",
        "import matplotlib.pyplot as plt\n",
        "%matplotlib inline\n",
        "import seaborn as sns # agar seaborn o'rnatilmagan bo'lsa pip install seaborn"
      ]
    },
    {
      "cell_type": "markdown",
      "source": [
        "Darsimiz uchun Mercedes-Benz firmasi avtomobillari narxini jamlagan jadvalni yuklab olamiz."
      ],
      "metadata": {
        "id": "Qiy92AXGaKbc"
      }
    },
    {
      "cell_type": "code",
      "source": [
        "df = pd.read_csv(\"https://raw.githubusercontent.com/anvarnarz/praktikum_datasets/main/merc.csv\")\n",
        "df=df[df.year>=2010] # 2010-yildan keyin chiqqan mashinalarni saqlab qolamiz\n",
        "df=df[df.transmission!='Other'] # Faqat avtomat, mexanik va yarim-avtomat mashinalarni olib qolamiz\n",
        "df=df[df.fuelType!='Other'] # Faqat benzin, dizel va gibrid mashinalarni olib qolamiz\n",
        "df.head()"
      ],
      "metadata": {
        "id": "gjgO_jk2aGJz"
      },
      "execution_count": null,
      "outputs": []
    },
    {
      "cell_type": "code",
      "source": [
        "df.shape"
      ],
      "metadata": {
        "id": "oNSaxHNkaPn3"
      },
      "execution_count": null,
      "outputs": []
    },
    {
      "cell_type": "code",
      "source": [
        "plt.figure(figsize=(10,5))\n",
        "sns.histplot(data=df, x='price') # aslida histlpot nomi = gistrogramma deb ataladi\n",
        "plt.xticks(rotation=90)\n",
        "plt.show() "
      ],
      "metadata": {
        "id": "EXeXnoPHaVf6"
      },
      "execution_count": null,
      "outputs": []
    },
    {
      "cell_type": "markdown",
      "source": [
        "`seaborn` da taqsimotlarni ko'rsatish uchun bir nechta funksiyalar mavjud.\n",
        "Yuqorida ko'rganimiz `histplot` shulardan biri. Shuningdek, turli taqsimotlarni jamlaydigan yagona `displot` funksiyasi ham bor. \n",
        "\n",
        "`displot` yoki `histplot` qay biridan foydalanish sizning o'zingizga bog'liq. Bu ikkisining fariq shundaku, `histplot` va biz pastroqda ko'radigan `kdeplot`,  `ecdfplot` funksiyalari yordamida chizmaga ko'proq o'zgartirishlar kiritish mumkin.\n",
        "\n",
        "Batafsil: https://seaborn.pydata.org/generated/seaborn.displot.html"
      ],
      "metadata": {
        "id": "yF8bAaEccBdQ"
      }
    },
    {
      "cell_type": "code",
      "source": [
        "sns.displot(data=df, x='price', hue='transmission', height=5, aspect=2) # aspect = karra katta bo'yidan degani\n",
        "plt.xticks(rotation=90)\n",
        "plt.show()"
      ],
      "metadata": {
        "id": "ItnffYvNawAQ"
      },
      "execution_count": null,
      "outputs": []
    },
    {
      "cell_type": "markdown",
      "source": [
        "Yuqoridagi grafikdan aksar mashinalarning narxi 20000$ ga yaqi ekanini ko'rishimiz mumkin. \n",
        "\n",
        "Keling jadvaldagi mashinalarning kilometri taqsimotini ko'ramiz:"
      ],
      "metadata": {
        "id": "1A5-rGtzcquo"
      }
    },
    {
      "cell_type": "code",
      "source": [
        "sns.displot(data=df, x='price', hue='transmission', multiple=\"stack\", height=5, aspect=2)\n",
        "plt.show()"
      ],
      "metadata": {
        "id": "c8NFfDC-bdR0"
      },
      "execution_count": null,
      "outputs": []
    },
    {
      "cell_type": "code",
      "source": [
        "sns.displot(data=df, x=\"mileage\", hue=\"transmission\", multiple=\"stack\", height=5, aspect=2)\n",
        "plt.show()"
      ],
      "metadata": {
        "id": "E_vXfVbhcedM"
      },
      "execution_count": null,
      "outputs": []
    },
    {
      "cell_type": "markdown",
      "source": [
        "`col` parametri yordamida har bir grafikni ajratib chizish mumkin:"
      ],
      "metadata": {
        "id": "jBo-utlYc8I9"
      }
    },
    {
      "cell_type": "code",
      "source": [
        "sns.displot(data=df, x='price', col='transmission', height=5, aspect=2)\n",
        "plt.show()"
      ],
      "metadata": {
        "id": "YyqDkuHGc3Lk"
      },
      "execution_count": null,
      "outputs": []
    },
    {
      "cell_type": "markdown",
      "source": [
        "### KDE - Kernel Density Estimation\n",
        "Qiymatlar taqsimotini baholashning yana bir usuli bu - KDE, tasodifiy qiymatlar zichligini ko'rsatuvchi grafik. \n",
        "KDE haqida to'liq ma'lumot: https://en.wikipedia.org/wiki/Kernel_density_estimation (rus tilida ham bor)\n",
        "\n",
        "KDE grafik uchun `displot` yoki maxsus `kdeplot` funksiylaridan foydalanishimiz mumkin:"
      ],
      "metadata": {
        "id": "UzXKsI5tdSUP"
      }
    },
    {
      "cell_type": "code",
      "source": [
        "sns.displot(data=df, x='price', kind='kde', height=5, aspect=2)\n",
        "plt.show()"
      ],
      "metadata": {
        "id": "QKQORMIMdIDX"
      },
      "execution_count": null,
      "outputs": []
    },
    {
      "cell_type": "markdown",
      "source": [
        "Bu yerdaham xuddi oldingi natijani olish mumkin"
      ],
      "metadata": {
        "id": "gNScEOlgdyBr"
      }
    },
    {
      "cell_type": "markdown",
      "source": [
        "`displot` yordamida Distribution va KDE jamlab chizish ham mumkin:"
      ],
      "metadata": {
        "id": "rlfMFk8YeS_m"
      }
    },
    {
      "cell_type": "code",
      "source": [
        "sns.displot(data=df, x='mileage', kde=True, height=5, aspect=2)\n",
        "plt.show()"
      ],
      "metadata": {
        "id": "WEDLLmd5dl6f"
      },
      "execution_count": null,
      "outputs": []
    },
    {
      "cell_type": "markdown",
      "source": [
        "### `kdeplot()`"
      ],
      "metadata": {
        "id": "_VJpvyTyedVA"
      }
    },
    {
      "cell_type": "markdown",
      "source": [
        "`hue` parametri yordamida qo'shimcha o'zgaruvchini qo'shishimiz mumkin:"
      ],
      "metadata": {
        "id": "oTgdnf1qfhMA"
      }
    },
    {
      "cell_type": "code",
      "source": [
        "#kdeplot\n",
        "plt.figure(figsize=(10,5))\n",
        "sns.kdeplot(data=df, x='price', hue='transmission', shade=True)\n",
        "plt.xticks(rotation=90)\n",
        "plt.show()"
      ],
      "metadata": {
        "id": "un5jt9g_fvjP"
      },
      "execution_count": null,
      "outputs": []
    },
    {
      "cell_type": "markdown",
      "source": [
        "`displot` va `hue`"
      ],
      "metadata": {
        "id": "DAf5FRsLgQCr"
      }
    },
    {
      "cell_type": "code",
      "source": [
        "sns.displot(data=df, x='price', hue='fuelType', kind='kde', height=5, aspect=2)\n",
        "plt.xticks(rotation=90)\n",
        "plt.show()"
      ],
      "metadata": {
        "id": "sv6uyE_rfAl8"
      },
      "execution_count": null,
      "outputs": []
    },
    {
      "cell_type": "code",
      "source": [
        "sns.displot(data=df, x=\"price\", col=\"fuelType\", kind='kde', height=5, aspect=1)\n",
        "plt.show()"
      ],
      "metadata": {
        "id": "lA5W_NVKgUaf"
      },
      "execution_count": null,
      "outputs": []
    },
    {
      "cell_type": "code",
      "source": [],
      "metadata": {
        "id": "Vf5Ky8ocgc2U"
      },
      "execution_count": null,
      "outputs": []
    }
  ]
}